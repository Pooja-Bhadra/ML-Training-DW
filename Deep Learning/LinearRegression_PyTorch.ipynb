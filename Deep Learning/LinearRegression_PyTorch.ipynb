{
 "cells": [
  {
   "cell_type": "markdown",
   "id": "d45362bf",
   "metadata": {},
   "source": [
    "## Linear Regression Using PyTorch"
   ]
  },
  {
   "cell_type": "code",
   "execution_count": 152,
   "id": "6e04fc9b",
   "metadata": {},
   "outputs": [],
   "source": [
    "import torch"
   ]
  },
  {
   "cell_type": "markdown",
   "id": "c618212a",
   "metadata": {},
   "source": [
    "#### From Scratch using Gradient Descent (No bias)"
   ]
  },
  {
   "cell_type": "code",
   "execution_count": 153,
   "id": "7d14224a",
   "metadata": {},
   "outputs": [
    {
     "data": {
      "text/plain": [
       "tensor([1., 2., 3., 4.])"
      ]
     },
     "execution_count": 153,
     "metadata": {},
     "output_type": "execute_result"
    }
   ],
   "source": [
    "# independent variable\n",
    "\n",
    "x = torch.tensor([1, 2, 3, 4], dtype=torch.float32)\n",
    "x"
   ]
  },
  {
   "cell_type": "code",
   "execution_count": 154,
   "id": "d07e2d4c",
   "metadata": {},
   "outputs": [
    {
     "data": {
      "text/plain": [
       "tensor([2., 4., 6., 8.])"
      ]
     },
     "execution_count": 154,
     "metadata": {},
     "output_type": "execute_result"
    }
   ],
   "source": [
    "# dependent variable\n",
    "\n",
    "y = torch.tensor([2, 4, 6, 8], dtype=torch.float32)\n",
    "y"
   ]
  },
  {
   "cell_type": "code",
   "execution_count": 155,
   "id": "818a7d8b",
   "metadata": {},
   "outputs": [
    {
     "data": {
      "text/plain": [
       "tensor(0., requires_grad=True)"
      ]
     },
     "execution_count": 155,
     "metadata": {},
     "output_type": "execute_result"
    }
   ],
   "source": [
    "# weights\n",
    "\n",
    "w = torch.tensor(0.0, dtype=torch.float32, requires_grad=True)\n",
    "w"
   ]
  },
  {
   "cell_type": "code",
   "execution_count": 156,
   "id": "7bee7769",
   "metadata": {},
   "outputs": [],
   "source": [
    "# forward pass / forward propogation (gives y_hat)\n",
    "\n",
    "def get_forward_pass(x_val):\n",
    "    return(w * x_val)   #y_hat"
   ]
  },
  {
   "cell_type": "code",
   "execution_count": 157,
   "id": "7f9132d7",
   "metadata": {},
   "outputs": [],
   "source": [
    "# loss function\n",
    "\n",
    "def get_loss(y_val, y_hat):\n",
    "    return((y_hat - y_val)**2).mean()"
   ]
  },
  {
   "cell_type": "code",
   "execution_count": 158,
   "id": "2d9c81f2",
   "metadata": {},
   "outputs": [
    {
     "name": "stdout",
     "output_type": "stream",
     "text": [
      "epoch1: w= 0.300,loss= 30.00000000\n",
      "epoch11: w= 1.665,loss= 1.16278565\n",
      "epoch21: w= 1.934,loss= 0.04506890\n",
      "epoch31: w= 1.987,loss= 0.00174685\n",
      "epoch41: w= 1.997,loss= 0.00006770\n",
      "epoch51: w= 1.999,loss= 0.00000262\n",
      "epoch61: w= 2.000,loss= 0.00000010\n",
      "epoch71: w= 2.000,loss= 0.00000000\n",
      "epoch81: w= 2.000,loss= 0.00000000\n",
      "epoch91: w= 2.000,loss= 0.00000000\n"
     ]
    }
   ],
   "source": [
    "# Training \n",
    "\n",
    "learning_rate = 0.01\n",
    "n_iters = 100\n",
    "\n",
    "for epoch in range(n_iters):\n",
    "    y_pred = get_forward_pass(x)  # y_predicted\n",
    "    l = get_loss(y, y_pred)       # loss\n",
    "    l.backward()                  # backward pass/ propogation (gives gradient descent)\n",
    "    with torch.no_grad():         # update weights\n",
    "        w -= learning_rate * w.grad\n",
    "    w.grad.zero_()                 # updating gradients to zero\n",
    "    \n",
    "    if epoch % 10 == 0:\n",
    "        print(f'epoch{epoch+1}: w= {w:.3f},loss= {l:.8f}') "
   ]
  }
 ],
 "metadata": {
  "kernelspec": {
   "display_name": "Python 3 (ipykernel)",
   "language": "python",
   "name": "python3"
  },
  "language_info": {
   "codemirror_mode": {
    "name": "ipython",
    "version": 3
   },
   "file_extension": ".py",
   "mimetype": "text/x-python",
   "name": "python",
   "nbconvert_exporter": "python",
   "pygments_lexer": "ipython3",
   "version": "3.9.12"
  }
 },
 "nbformat": 4,
 "nbformat_minor": 5
}
