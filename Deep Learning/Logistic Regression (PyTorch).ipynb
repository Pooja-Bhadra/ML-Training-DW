{
 "cells": [
  {
   "cell_type": "markdown",
   "id": "db45c66d",
   "metadata": {},
   "source": [
    "## Logistic Regression"
   ]
  },
  {
   "cell_type": "code",
   "execution_count": 36,
   "id": "dfccd587",
   "metadata": {},
   "outputs": [],
   "source": [
    "# Importing Libraries\n",
    "\n",
    "import torch\n",
    "import torch.nn as nn\n",
    "import numpy as np\n",
    "from sklearn import datasets\n",
    "from sklearn.preprocessing import StandardScaler\n",
    "from sklearn.model_selection import train_test_split"
   ]
  },
  {
   "cell_type": "code",
   "execution_count": 37,
   "id": "b623ff6e",
   "metadata": {},
   "outputs": [],
   "source": [
    "# Loading dataset\n",
    "\n",
    "df = datasets.load_breast_cancer()"
   ]
  },
  {
   "cell_type": "code",
   "execution_count": 38,
   "id": "66f1ade8",
   "metadata": {},
   "outputs": [],
   "source": [
    "# Defining independent and dependent variables\n",
    "\n",
    "X = df.data\n",
    "Y = df.target"
   ]
  },
  {
   "cell_type": "code",
   "execution_count": 39,
   "id": "042f6877",
   "metadata": {},
   "outputs": [],
   "source": [
    "# number of rows and columns\n",
    "\n",
    "n_samples, n_features = X.shape"
   ]
  },
  {
   "cell_type": "code",
   "execution_count": 40,
   "id": "59eb9a29",
   "metadata": {},
   "outputs": [
    {
     "name": "stdout",
     "output_type": "stream",
     "text": [
      "Number of Samples = 569\n",
      "Number of features = 30\n"
     ]
    }
   ],
   "source": [
    "print('Number of Samples =', n_samples)\n",
    "print('Number of features =', n_features)"
   ]
  },
  {
   "cell_type": "code",
   "execution_count": 41,
   "id": "600bf67d",
   "metadata": {},
   "outputs": [],
   "source": [
    "# Train-test split\n",
    "\n",
    "X_train, X_test, Y_train, Y_test = train_test_split(X, Y, test_size=0.2, random_state = 1234)"
   ]
  },
  {
   "cell_type": "code",
   "execution_count": 42,
   "id": "b6b70094",
   "metadata": {},
   "outputs": [],
   "source": [
    "# Scaling data\n",
    "\n",
    "sc = StandardScaler()\n",
    "X_train_sc = sc.fit_transform(X_train)\n",
    "X_test_sc = sc.fit_transform(X_test)"
   ]
  },
  {
   "cell_type": "code",
   "execution_count": 43,
   "id": "ea2dcd77",
   "metadata": {},
   "outputs": [],
   "source": [
    "# to torch tensors\n",
    "\n",
    "X_train_ten = torch.from_numpy(X_train_sc.astype(np.float32))\n",
    "X_test_ten = torch.from_numpy(X_test_sc.astype(np.float32))\n",
    "Y_train_ten = torch.from_numpy(Y_train.astype(np.float32))\n",
    "Y_test_ten = torch.from_numpy(Y_test.astype(np.float32))"
   ]
  },
  {
   "cell_type": "code",
   "execution_count": 44,
   "id": "6673f785",
   "metadata": {},
   "outputs": [],
   "source": [
    "# Defining Y as a 1-D array\n",
    "\n",
    "Y_train_ten_re = Y_train_ten.view(Y_train_ten.shape[0], 1)\n",
    "Y_test_ten_re = Y_test_ten.view(Y_test_ten.shape[0], 1)"
   ]
  },
  {
   "cell_type": "code",
   "execution_count": 45,
   "id": "b75c520f",
   "metadata": {},
   "outputs": [],
   "source": [
    "# Logistic Regression\n",
    "\n",
    "class LogisticRegression(nn.Module):\n",
    "    \n",
    "    # layer 1\n",
    "    def __init__(self,n_input_features):\n",
    "        super(LogisticRegression, self).__init__()\n",
    "        self.linear = nn.Linear(n_input_features, 1)\n",
    "    \n",
    "    def forward(self, x):                  \n",
    "        y_predicted = torch.sigmoid(self.linear(x))\n",
    "        return y_predicted\n",
    "\n",
    "model = LogisticRegression(n_features)\n",
    "\n",
    "learning_rate = 0.01\n",
    "criterian = nn.BCELoss()\n",
    "optimizer = torch.optim.SGD(model.parameters(), lr = learning_rate)"
   ]
  },
  {
   "cell_type": "code",
   "execution_count": 49,
   "id": "6a69f2b7",
   "metadata": {},
   "outputs": [
    {
     "name": "stdout",
     "output_type": "stream",
     "text": [
      "epoch: 200, loss = 0.0585\n",
      "epoch: 400, loss = 0.0573\n",
      "epoch: 600, loss = 0.0563\n",
      "epoch: 800, loss = 0.0553\n",
      "epoch: 1000, loss = 0.0544\n",
      "epoch: 1200, loss = 0.0535\n",
      "epoch: 1400, loss = 0.0527\n",
      "epoch: 1600, loss = 0.0520\n",
      "epoch: 1800, loss = 0.0513\n",
      "epoch: 2000, loss = 0.0506\n",
      "accuracy =  tensor(0.9649)\n"
     ]
    }
   ],
   "source": [
    "# Training Loop\n",
    "\n",
    "n_epoch = 2000\n",
    "\n",
    "for epoch in range(n_epoch):\n",
    "    \n",
    "    y_pred = model(X_train_ten)   # forward pass\n",
    "    \n",
    "    loss =  criterian(y_pred, Y_train_ten_re)  # loss\n",
    "    \n",
    "    loss.backward()        # backward pass\n",
    "    \n",
    "    optimizer.step()      # update weights\n",
    "    \n",
    "    optimizer.zero_grad()     # zero grad\n",
    "    \n",
    "    if (epoch + 1) % 200 == 0:\n",
    "        print(f'epoch: {epoch+1}, loss = {loss.item():.4f}')\n",
    "\n",
    "with torch.no_grad():\n",
    "    y_pred = model(X_test_ten)\n",
    "    y_pred_cls = y_pred.round()\n",
    "    acc = y_pred_cls.eq(Y_test_ten_re).sum() / float(Y_test_ten_re.shape[0])\n",
    "    print ('accuracy = ', acc)"
   ]
  }
 ],
 "metadata": {
  "kernelspec": {
   "display_name": "Python 3 (ipykernel)",
   "language": "python",
   "name": "python3"
  },
  "language_info": {
   "codemirror_mode": {
    "name": "ipython",
    "version": 3
   },
   "file_extension": ".py",
   "mimetype": "text/x-python",
   "name": "python",
   "nbconvert_exporter": "python",
   "pygments_lexer": "ipython3",
   "version": "3.9.12"
  }
 },
 "nbformat": 4,
 "nbformat_minor": 5
}
