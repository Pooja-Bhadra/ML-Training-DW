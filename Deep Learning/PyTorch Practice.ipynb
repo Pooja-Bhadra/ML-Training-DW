{
 "cells": [
  {
   "cell_type": "markdown",
   "id": "c379a3aa",
   "metadata": {},
   "source": [
    "## Basics of PyTorch"
   ]
  },
  {
   "cell_type": "code",
   "execution_count": 2,
   "id": "d726dbf5",
   "metadata": {},
   "outputs": [],
   "source": [
    "import torch"
   ]
  },
  {
   "cell_type": "code",
   "execution_count": null,
   "id": "9cf9ac89",
   "metadata": {},
   "outputs": [],
   "source": [
    "# Creating an empty tensor\n",
    "# tensor is like an array in numpy"
   ]
  },
  {
   "cell_type": "code",
   "execution_count": 10,
   "id": "7e4a87a7",
   "metadata": {},
   "outputs": [
    {
     "data": {
      "text/plain": [
       "tensor([2.3694e-38])"
      ]
     },
     "execution_count": 10,
     "metadata": {},
     "output_type": "execute_result"
    }
   ],
   "source": [
    "x1 = torch.empty(1)     #1-D\n",
    "x1"
   ]
  },
  {
   "cell_type": "code",
   "execution_count": 9,
   "id": "77bfcee4",
   "metadata": {},
   "outputs": [
    {
     "data": {
      "text/plain": [
       "tensor([[1.3553e-19, 1.3563e-19, 1.3320e+31],\n",
       "        [1.1869e+27, 6.6741e+22, 7.0373e+22]])"
      ]
     },
     "execution_count": 9,
     "metadata": {},
     "output_type": "execute_result"
    }
   ],
   "source": [
    "x2 = torch.empty(2, 3)   #2-D\n",
    "x2"
   ]
  },
  {
   "cell_type": "code",
   "execution_count": 11,
   "id": "6c28ae09",
   "metadata": {},
   "outputs": [],
   "source": [
    "# Creating a tensor with random number"
   ]
  },
  {
   "cell_type": "code",
   "execution_count": 12,
   "id": "ad425792",
   "metadata": {},
   "outputs": [
    {
     "data": {
      "text/plain": [
       "tensor([[0.1973, 0.2637],\n",
       "        [0.3348, 0.2737]])"
      ]
     },
     "execution_count": 12,
     "metadata": {},
     "output_type": "execute_result"
    }
   ],
   "source": [
    "x3 = torch.rand(2,2)\n",
    "x3"
   ]
  },
  {
   "cell_type": "code",
   "execution_count": 13,
   "id": "ceca86ac",
   "metadata": {},
   "outputs": [],
   "source": [
    "# Creating tensors with zeros and ones just like Numpy functions"
   ]
  },
  {
   "cell_type": "code",
   "execution_count": 14,
   "id": "6b9356ab",
   "metadata": {},
   "outputs": [
    {
     "data": {
      "text/plain": [
       "tensor([[0., 0., 0.],\n",
       "        [0., 0., 0.]])"
      ]
     },
     "execution_count": 14,
     "metadata": {},
     "output_type": "execute_result"
    }
   ],
   "source": [
    "x4 = torch.zeros(2, 3)\n",
    "x4"
   ]
  },
  {
   "cell_type": "code",
   "execution_count": 16,
   "id": "2d779504",
   "metadata": {},
   "outputs": [
    {
     "data": {
      "text/plain": [
       "tensor([[1, 1, 1],\n",
       "        [1, 1, 1]], dtype=torch.int32)"
      ]
     },
     "execution_count": 16,
     "metadata": {},
     "output_type": "execute_result"
    }
   ],
   "source": [
    "x5 = torch.ones(2, 3, dtype=torch.int)  # integer values instead of float\n",
    "x5"
   ]
  },
  {
   "cell_type": "code",
   "execution_count": 18,
   "id": "3a7cc532",
   "metadata": {},
   "outputs": [
    {
     "name": "stdout",
     "output_type": "stream",
     "text": [
      "data_type: torch.int32\n",
      "data_size: torch.Size([2, 3])\n"
     ]
    }
   ],
   "source": [
    "print('data_type:', x5.dtype)\n",
    "print('data_size:', x5.size())"
   ]
  },
  {
   "cell_type": "code",
   "execution_count": 19,
   "id": "6cceb45e",
   "metadata": {},
   "outputs": [],
   "source": [
    "# Addition "
   ]
  },
  {
   "cell_type": "code",
   "execution_count": 20,
   "id": "dfa4816b",
   "metadata": {},
   "outputs": [
    {
     "data": {
      "text/plain": [
       "tensor([[1., 1., 1.],\n",
       "        [1., 1., 1.]])"
      ]
     },
     "execution_count": 20,
     "metadata": {},
     "output_type": "execute_result"
    }
   ],
   "source": [
    "x4 + x5"
   ]
  },
  {
   "cell_type": "code",
   "execution_count": 21,
   "id": "66e72b80",
   "metadata": {},
   "outputs": [
    {
     "data": {
      "text/plain": [
       "tensor([[1., 1., 1.],\n",
       "        [1., 1., 1.]])"
      ]
     },
     "execution_count": 21,
     "metadata": {},
     "output_type": "execute_result"
    }
   ],
   "source": [
    "torch.add(x4, x5)"
   ]
  },
  {
   "cell_type": "code",
   "execution_count": 23,
   "id": "caa92451",
   "metadata": {},
   "outputs": [
    {
     "data": {
      "text/plain": [
       "tensor([[0.6043, 0.7293],\n",
       "        [0.4840, 0.6012]])"
      ]
     },
     "execution_count": 23,
     "metadata": {},
     "output_type": "execute_result"
    }
   ],
   "source": [
    "y1 = torch.rand(2,2)   #updates value of y1 \n",
    "y1.add_(x3)"
   ]
  },
  {
   "cell_type": "code",
   "execution_count": null,
   "id": "effc0897",
   "metadata": {},
   "outputs": [],
   "source": [
    "# Subtraction"
   ]
  },
  {
   "cell_type": "code",
   "execution_count": 24,
   "id": "d3fb1792",
   "metadata": {},
   "outputs": [
    {
     "data": {
      "text/plain": [
       "tensor([[0.4070, 0.4656],\n",
       "        [0.1492, 0.3275]])"
      ]
     },
     "execution_count": 24,
     "metadata": {},
     "output_type": "execute_result"
    }
   ],
   "source": [
    "y1 - x3"
   ]
  },
  {
   "cell_type": "code",
   "execution_count": 25,
   "id": "fad9f7d3",
   "metadata": {},
   "outputs": [
    {
     "data": {
      "text/plain": [
       "tensor([[0.4070, 0.4656],\n",
       "        [0.1492, 0.3275]])"
      ]
     },
     "execution_count": 25,
     "metadata": {},
     "output_type": "execute_result"
    }
   ],
   "source": [
    "y1.sub(x3)"
   ]
  },
  {
   "cell_type": "code",
   "execution_count": 26,
   "id": "8604270c",
   "metadata": {},
   "outputs": [],
   "source": [
    "# Multiplication"
   ]
  },
  {
   "cell_type": "code",
   "execution_count": 27,
   "id": "ad3ba288",
   "metadata": {},
   "outputs": [
    {
     "data": {
      "text/plain": [
       "tensor([[0.1193, 0.1923],\n",
       "        [0.1621, 0.1646]])"
      ]
     },
     "execution_count": 27,
     "metadata": {},
     "output_type": "execute_result"
    }
   ],
   "source": [
    "y1.mul(x3)"
   ]
  },
  {
   "cell_type": "code",
   "execution_count": 28,
   "id": "799f32ff",
   "metadata": {},
   "outputs": [
    {
     "data": {
      "text/plain": [
       "tensor([[0.1193, 0.1923],\n",
       "        [0.1621, 0.1646]])"
      ]
     },
     "execution_count": 28,
     "metadata": {},
     "output_type": "execute_result"
    }
   ],
   "source": [
    "y1 * x3"
   ]
  },
  {
   "cell_type": "code",
   "execution_count": null,
   "id": "a3f9f635",
   "metadata": {},
   "outputs": [],
   "source": [
    "# Division"
   ]
  },
  {
   "cell_type": "code",
   "execution_count": 29,
   "id": "46181d74",
   "metadata": {},
   "outputs": [
    {
     "data": {
      "text/plain": [
       "tensor([[3.0624, 2.7657],\n",
       "        [1.4458, 2.1965]])"
      ]
     },
     "execution_count": 29,
     "metadata": {},
     "output_type": "execute_result"
    }
   ],
   "source": [
    "y1 / x3"
   ]
  },
  {
   "cell_type": "code",
   "execution_count": 30,
   "id": "97a5385a",
   "metadata": {},
   "outputs": [
    {
     "data": {
      "text/plain": [
       "tensor([[3.0624, 2.7657],\n",
       "        [1.4458, 2.1965]])"
      ]
     },
     "execution_count": 30,
     "metadata": {},
     "output_type": "execute_result"
    }
   ],
   "source": [
    "y1.div(x3)"
   ]
  },
  {
   "cell_type": "code",
   "execution_count": 31,
   "id": "9a573e4d",
   "metadata": {},
   "outputs": [],
   "source": [
    "# Reshaping "
   ]
  },
  {
   "cell_type": "code",
   "execution_count": 32,
   "id": "f5f8b505",
   "metadata": {},
   "outputs": [],
   "source": [
    "x6 = torch.rand(4, 4)"
   ]
  },
  {
   "cell_type": "code",
   "execution_count": 33,
   "id": "56671124",
   "metadata": {},
   "outputs": [
    {
     "data": {
      "text/plain": [
       "tensor([0.6389, 0.7324, 0.6216, 0.1218, 0.7908, 0.5509, 0.0808, 0.4795, 0.2717,\n",
       "        0.7179, 0.7074, 0.8134, 0.7330, 0.1964, 0.6378, 0.1119])"
      ]
     },
     "execution_count": 33,
     "metadata": {},
     "output_type": "execute_result"
    }
   ],
   "source": [
    "y2 = x6.view(16)\n",
    "y2"
   ]
  },
  {
   "cell_type": "code",
   "execution_count": 34,
   "id": "ba01b508",
   "metadata": {},
   "outputs": [
    {
     "data": {
      "text/plain": [
       "tensor([[0.6389, 0.7324, 0.6216, 0.1218, 0.7908, 0.5509, 0.0808, 0.4795],\n",
       "        [0.2717, 0.7179, 0.7074, 0.8134, 0.7330, 0.1964, 0.6378, 0.1119]])"
      ]
     },
     "execution_count": 34,
     "metadata": {},
     "output_type": "execute_result"
    }
   ],
   "source": [
    "y3 = x6.view(-1, 8)\n",
    "y3"
   ]
  },
  {
   "cell_type": "code",
   "execution_count": 35,
   "id": "09c84e46",
   "metadata": {},
   "outputs": [],
   "source": [
    "# PyTorch to Numpy and Vice-Versa"
   ]
  },
  {
   "cell_type": "code",
   "execution_count": 36,
   "id": "a6d606ed",
   "metadata": {},
   "outputs": [],
   "source": [
    "import numpy as np"
   ]
  },
  {
   "cell_type": "code",
   "execution_count": 38,
   "id": "0a75535a",
   "metadata": {},
   "outputs": [
    {
     "data": {
      "text/plain": [
       "tensor([1., 1., 1., 1., 1.])"
      ]
     },
     "execution_count": 38,
     "metadata": {},
     "output_type": "execute_result"
    }
   ],
   "source": [
    "a1 = torch.ones(5)\n",
    "a1"
   ]
  },
  {
   "cell_type": "code",
   "execution_count": 39,
   "id": "a88de79f",
   "metadata": {},
   "outputs": [
    {
     "data": {
      "text/plain": [
       "array([1., 1., 1., 1., 1.], dtype=float32)"
      ]
     },
     "execution_count": 39,
     "metadata": {},
     "output_type": "execute_result"
    }
   ],
   "source": [
    "a1.numpy()"
   ]
  },
  {
   "cell_type": "code",
   "execution_count": 40,
   "id": "82f37bd4",
   "metadata": {},
   "outputs": [
    {
     "data": {
      "text/plain": [
       "array([1., 1., 1., 1., 1.])"
      ]
     },
     "execution_count": 40,
     "metadata": {},
     "output_type": "execute_result"
    }
   ],
   "source": [
    "a2 = np.ones(5)\n",
    "a2"
   ]
  },
  {
   "cell_type": "code",
   "execution_count": 41,
   "id": "f0108a61",
   "metadata": {},
   "outputs": [
    {
     "data": {
      "text/plain": [
       "tensor([1., 1., 1., 1., 1.], dtype=torch.float64)"
      ]
     },
     "execution_count": 41,
     "metadata": {},
     "output_type": "execute_result"
    }
   ],
   "source": [
    "torch.from_numpy(a2)"
   ]
  },
  {
   "cell_type": "code",
   "execution_count": 42,
   "id": "8ac59011",
   "metadata": {},
   "outputs": [],
   "source": [
    "# Gradient Descent / Autograd"
   ]
  },
  {
   "cell_type": "code",
   "execution_count": 49,
   "id": "40ad771a",
   "metadata": {},
   "outputs": [
    {
     "data": {
      "text/plain": [
       "tensor([0.5162, 0.7293, 0.3558], requires_grad=True)"
      ]
     },
     "execution_count": 49,
     "metadata": {},
     "output_type": "execute_result"
    }
   ],
   "source": [
    "a3 = torch.rand(3, requires_grad=True)    #requires_grad=True is important for Grad functions\n",
    "a3"
   ]
  },
  {
   "cell_type": "code",
   "execution_count": 50,
   "id": "596e64a4",
   "metadata": {},
   "outputs": [],
   "source": [
    "b1 = a3 + 2    # forward pass"
   ]
  },
  {
   "cell_type": "code",
   "execution_count": 51,
   "id": "e72d65b3",
   "metadata": {},
   "outputs": [
    {
     "data": {
      "text/plain": [
       "tensor([2.5162, 2.7293, 2.3558], grad_fn=<AddBackward0>)"
      ]
     },
     "execution_count": 51,
     "metadata": {},
     "output_type": "execute_result"
    }
   ],
   "source": [
    "b1"
   ]
  },
  {
   "cell_type": "code",
   "execution_count": 52,
   "id": "ec76d71b",
   "metadata": {},
   "outputs": [
    {
     "data": {
      "text/plain": [
       "tensor([12.6628, 14.8979, 11.0997], grad_fn=<MulBackward0>)"
      ]
     },
     "execution_count": 52,
     "metadata": {},
     "output_type": "execute_result"
    }
   ],
   "source": [
    "c1 = b1*b1*2\n",
    "c1"
   ]
  },
  {
   "cell_type": "code",
   "execution_count": 53,
   "id": "011951e8",
   "metadata": {},
   "outputs": [
    {
     "data": {
      "text/plain": [
       "tensor(12.8868, grad_fn=<MeanBackward0>)"
      ]
     },
     "execution_count": 53,
     "metadata": {},
     "output_type": "execute_result"
    }
   ],
   "source": [
    "c1 = c1.mean()\n",
    "c1"
   ]
  },
  {
   "cell_type": "code",
   "execution_count": 54,
   "id": "e1729abf",
   "metadata": {},
   "outputs": [
    {
     "name": "stdout",
     "output_type": "stream",
     "text": [
      "tensor([3.3550, 3.6390, 3.1411])\n"
     ]
    }
   ],
   "source": [
    "c1.backward()      #uses Jacobian Matrix\n",
    "print(a3.grad)"
   ]
  },
  {
   "cell_type": "code",
   "execution_count": 55,
   "id": "31e3725e",
   "metadata": {},
   "outputs": [],
   "source": [
    "# If Gradient Function is not needed in the codes ahead:"
   ]
  },
  {
   "cell_type": "code",
   "execution_count": 56,
   "id": "45e61e87",
   "metadata": {},
   "outputs": [
    {
     "data": {
      "text/plain": [
       "tensor([0.5162, 0.7293, 0.3558])"
      ]
     },
     "execution_count": 56,
     "metadata": {},
     "output_type": "execute_result"
    }
   ],
   "source": [
    "a3.requires_grad_(False)\n",
    "a3"
   ]
  },
  {
   "cell_type": "code",
   "execution_count": 57,
   "id": "6ee6f5d6",
   "metadata": {},
   "outputs": [
    {
     "data": {
      "text/plain": [
       "tensor([0.5162, 0.7293, 0.3558])"
      ]
     },
     "execution_count": 57,
     "metadata": {},
     "output_type": "execute_result"
    }
   ],
   "source": [
    "c2 = a3.detach()\n",
    "c2"
   ]
  },
  {
   "cell_type": "code",
   "execution_count": 58,
   "id": "2fd75895",
   "metadata": {},
   "outputs": [
    {
     "name": "stdout",
     "output_type": "stream",
     "text": [
      "tensor([2.5162, 2.7293, 2.3558])\n"
     ]
    }
   ],
   "source": [
    "with torch.no_grad():\n",
    "    c3 = a3 + 2\n",
    "    print(c3)"
   ]
  }
 ],
 "metadata": {
  "kernelspec": {
   "display_name": "Python 3 (ipykernel)",
   "language": "python",
   "name": "python3"
  },
  "language_info": {
   "codemirror_mode": {
    "name": "ipython",
    "version": 3
   },
   "file_extension": ".py",
   "mimetype": "text/x-python",
   "name": "python",
   "nbconvert_exporter": "python",
   "pygments_lexer": "ipython3",
   "version": "3.9.12"
  }
 },
 "nbformat": 4,
 "nbformat_minor": 5
}
