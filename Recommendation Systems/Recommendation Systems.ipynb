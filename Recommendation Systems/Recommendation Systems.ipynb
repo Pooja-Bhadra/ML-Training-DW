{
 "cells": [
  {
   "cell_type": "markdown",
   "id": "e51a5217",
   "metadata": {},
   "source": [
    "## Recommendation Systems"
   ]
  },
  {
   "cell_type": "markdown",
   "id": "91444edf",
   "metadata": {},
   "source": [
    "### Using KNN"
   ]
  },
  {
   "cell_type": "code",
   "execution_count": 100,
   "id": "b1c632d2",
   "metadata": {},
   "outputs": [],
   "source": [
    "# Importing libraries\n",
    "\n",
    "import numpy as np\n",
    "import pandas as pd"
   ]
  },
  {
   "cell_type": "code",
   "execution_count": 101,
   "id": "b0b0d7b8",
   "metadata": {},
   "outputs": [
    {
     "data": {
      "text/html": [
       "<div>\n",
       "<style scoped>\n",
       "    .dataframe tbody tr th:only-of-type {\n",
       "        vertical-align: middle;\n",
       "    }\n",
       "\n",
       "    .dataframe tbody tr th {\n",
       "        vertical-align: top;\n",
       "    }\n",
       "\n",
       "    .dataframe thead th {\n",
       "        text-align: right;\n",
       "    }\n",
       "</style>\n",
       "<table border=\"1\" class=\"dataframe\">\n",
       "  <thead>\n",
       "    <tr style=\"text-align: right;\">\n",
       "      <th></th>\n",
       "      <th>jokeId</th>\n",
       "      <th>jokeText</th>\n",
       "    </tr>\n",
       "  </thead>\n",
       "  <tbody>\n",
       "    <tr>\n",
       "      <th>0</th>\n",
       "      <td>1</td>\n",
       "      <td>A man visits the doctor. The doctor says \"I ha...</td>\n",
       "    </tr>\n",
       "    <tr>\n",
       "      <th>1</th>\n",
       "      <td>2</td>\n",
       "      <td>This couple had an excellent relationship goin...</td>\n",
       "    </tr>\n",
       "    <tr>\n",
       "      <th>2</th>\n",
       "      <td>3</td>\n",
       "      <td>Q. What's 200 feet long and has 4 teeth? \\n\\nA...</td>\n",
       "    </tr>\n",
       "    <tr>\n",
       "      <th>3</th>\n",
       "      <td>4</td>\n",
       "      <td>Q. What's the difference between a man and a t...</td>\n",
       "    </tr>\n",
       "    <tr>\n",
       "      <th>4</th>\n",
       "      <td>5</td>\n",
       "      <td>Q.\\tWhat's O. J. Simpson's Internet address? \\...</td>\n",
       "    </tr>\n",
       "  </tbody>\n",
       "</table>\n",
       "</div>"
      ],
      "text/plain": [
       "   jokeId                                           jokeText\n",
       "0       1  A man visits the doctor. The doctor says \"I ha...\n",
       "1       2  This couple had an excellent relationship goin...\n",
       "2       3  Q. What's 200 feet long and has 4 teeth? \\n\\nA...\n",
       "3       4  Q. What's the difference between a man and a t...\n",
       "4       5  Q.\\tWhat's O. J. Simpson's Internet address? \\..."
      ]
     },
     "execution_count": 101,
     "metadata": {},
     "output_type": "execute_result"
    }
   ],
   "source": [
    "# Loading jokes dataset\n",
    "\n",
    "jokes_df = pd.read_csv(\"jester_items.csv\")\n",
    "jokes_df.head()"
   ]
  },
  {
   "cell_type": "code",
   "execution_count": 102,
   "id": "3de7e343",
   "metadata": {},
   "outputs": [
    {
     "data": {
      "text/html": [
       "<div>\n",
       "<style scoped>\n",
       "    .dataframe tbody tr th:only-of-type {\n",
       "        vertical-align: middle;\n",
       "    }\n",
       "\n",
       "    .dataframe tbody tr th {\n",
       "        vertical-align: top;\n",
       "    }\n",
       "\n",
       "    .dataframe thead th {\n",
       "        text-align: right;\n",
       "    }\n",
       "</style>\n",
       "<table border=\"1\" class=\"dataframe\">\n",
       "  <thead>\n",
       "    <tr style=\"text-align: right;\">\n",
       "      <th></th>\n",
       "      <th>userId</th>\n",
       "      <th>jokeId</th>\n",
       "      <th>rating</th>\n",
       "    </tr>\n",
       "  </thead>\n",
       "  <tbody>\n",
       "    <tr>\n",
       "      <th>0</th>\n",
       "      <td>1</td>\n",
       "      <td>5</td>\n",
       "      <td>0.219</td>\n",
       "    </tr>\n",
       "    <tr>\n",
       "      <th>1</th>\n",
       "      <td>1</td>\n",
       "      <td>7</td>\n",
       "      <td>-9.281</td>\n",
       "    </tr>\n",
       "    <tr>\n",
       "      <th>2</th>\n",
       "      <td>1</td>\n",
       "      <td>8</td>\n",
       "      <td>-9.281</td>\n",
       "    </tr>\n",
       "    <tr>\n",
       "      <th>3</th>\n",
       "      <td>1</td>\n",
       "      <td>13</td>\n",
       "      <td>-6.781</td>\n",
       "    </tr>\n",
       "    <tr>\n",
       "      <th>4</th>\n",
       "      <td>1</td>\n",
       "      <td>15</td>\n",
       "      <td>0.875</td>\n",
       "    </tr>\n",
       "  </tbody>\n",
       "</table>\n",
       "</div>"
      ],
      "text/plain": [
       "   userId  jokeId  rating\n",
       "0       1       5   0.219\n",
       "1       1       7  -9.281\n",
       "2       1       8  -9.281\n",
       "3       1      13  -6.781\n",
       "4       1      15   0.875"
      ]
     },
     "execution_count": 102,
     "metadata": {},
     "output_type": "execute_result"
    }
   ],
   "source": [
    "# Loading joke ratings dataset\n",
    "\n",
    "rating_df = pd.read_csv(\"jester_ratings.csv\")\n",
    "rating_df.head()"
   ]
  },
  {
   "cell_type": "code",
   "execution_count": 103,
   "id": "512f1aa5",
   "metadata": {},
   "outputs": [],
   "source": [
    "# Merging datasets\n",
    "\n",
    "df_new = rating_df.merge(jokes_df, on='jokeId')"
   ]
  },
  {
   "cell_type": "code",
   "execution_count": 104,
   "id": "3f244a44",
   "metadata": {},
   "outputs": [
    {
     "data": {
      "text/html": [
       "<div>\n",
       "<style scoped>\n",
       "    .dataframe tbody tr th:only-of-type {\n",
       "        vertical-align: middle;\n",
       "    }\n",
       "\n",
       "    .dataframe tbody tr th {\n",
       "        vertical-align: top;\n",
       "    }\n",
       "\n",
       "    .dataframe thead th {\n",
       "        text-align: right;\n",
       "    }\n",
       "</style>\n",
       "<table border=\"1\" class=\"dataframe\">\n",
       "  <thead>\n",
       "    <tr style=\"text-align: right;\">\n",
       "      <th></th>\n",
       "      <th>userId</th>\n",
       "      <th>jokeId</th>\n",
       "      <th>rating</th>\n",
       "      <th>jokeText</th>\n",
       "    </tr>\n",
       "  </thead>\n",
       "  <tbody>\n",
       "    <tr>\n",
       "      <th>0</th>\n",
       "      <td>1</td>\n",
       "      <td>5</td>\n",
       "      <td>0.219</td>\n",
       "      <td>Q.\\tWhat's O. J. Simpson's Internet address? \\...</td>\n",
       "    </tr>\n",
       "    <tr>\n",
       "      <th>1</th>\n",
       "      <td>2</td>\n",
       "      <td>5</td>\n",
       "      <td>-9.688</td>\n",
       "      <td>Q.\\tWhat's O. J. Simpson's Internet address? \\...</td>\n",
       "    </tr>\n",
       "    <tr>\n",
       "      <th>2</th>\n",
       "      <td>3</td>\n",
       "      <td>5</td>\n",
       "      <td>-9.844</td>\n",
       "      <td>Q.\\tWhat's O. J. Simpson's Internet address? \\...</td>\n",
       "    </tr>\n",
       "    <tr>\n",
       "      <th>3</th>\n",
       "      <td>4</td>\n",
       "      <td>5</td>\n",
       "      <td>-5.812</td>\n",
       "      <td>Q.\\tWhat's O. J. Simpson's Internet address? \\...</td>\n",
       "    </tr>\n",
       "    <tr>\n",
       "      <th>4</th>\n",
       "      <td>5</td>\n",
       "      <td>5</td>\n",
       "      <td>6.906</td>\n",
       "      <td>Q.\\tWhat's O. J. Simpson's Internet address? \\...</td>\n",
       "    </tr>\n",
       "  </tbody>\n",
       "</table>\n",
       "</div>"
      ],
      "text/plain": [
       "   userId  jokeId  rating                                           jokeText\n",
       "0       1       5   0.219  Q.\\tWhat's O. J. Simpson's Internet address? \\...\n",
       "1       2       5  -9.688  Q.\\tWhat's O. J. Simpson's Internet address? \\...\n",
       "2       3       5  -9.844  Q.\\tWhat's O. J. Simpson's Internet address? \\...\n",
       "3       4       5  -5.812  Q.\\tWhat's O. J. Simpson's Internet address? \\...\n",
       "4       5       5   6.906  Q.\\tWhat's O. J. Simpson's Internet address? \\..."
      ]
     },
     "execution_count": 104,
     "metadata": {},
     "output_type": "execute_result"
    }
   ],
   "source": [
    "df_new.head()"
   ]
  },
  {
   "cell_type": "code",
   "execution_count": 106,
   "id": "9fa01c15",
   "metadata": {},
   "outputs": [
    {
     "data": {
      "text/html": [
       "<div>\n",
       "<style scoped>\n",
       "    .dataframe tbody tr th:only-of-type {\n",
       "        vertical-align: middle;\n",
       "    }\n",
       "\n",
       "    .dataframe tbody tr th {\n",
       "        vertical-align: top;\n",
       "    }\n",
       "\n",
       "    .dataframe thead th {\n",
       "        text-align: right;\n",
       "    }\n",
       "</style>\n",
       "<table border=\"1\" class=\"dataframe\">\n",
       "  <thead>\n",
       "    <tr style=\"text-align: right;\">\n",
       "      <th></th>\n",
       "      <th>userId</th>\n",
       "      <th>jokeId</th>\n",
       "      <th>rating</th>\n",
       "      <th>jokeText</th>\n",
       "    </tr>\n",
       "  </thead>\n",
       "  <tbody>\n",
       "    <tr>\n",
       "      <th>0</th>\n",
       "      <td>1</td>\n",
       "      <td>5</td>\n",
       "      <td>0.219</td>\n",
       "      <td>Q.\\tWhat's O. J. Simpson's Internet address? \\...</td>\n",
       "    </tr>\n",
       "    <tr>\n",
       "      <th>1</th>\n",
       "      <td>2</td>\n",
       "      <td>5</td>\n",
       "      <td>-9.688</td>\n",
       "      <td>Q.\\tWhat's O. J. Simpson's Internet address? \\...</td>\n",
       "    </tr>\n",
       "    <tr>\n",
       "      <th>2</th>\n",
       "      <td>3</td>\n",
       "      <td>5</td>\n",
       "      <td>-9.844</td>\n",
       "      <td>Q.\\tWhat's O. J. Simpson's Internet address? \\...</td>\n",
       "    </tr>\n",
       "    <tr>\n",
       "      <th>3</th>\n",
       "      <td>4</td>\n",
       "      <td>5</td>\n",
       "      <td>-5.812</td>\n",
       "      <td>Q.\\tWhat's O. J. Simpson's Internet address? \\...</td>\n",
       "    </tr>\n",
       "    <tr>\n",
       "      <th>4</th>\n",
       "      <td>5</td>\n",
       "      <td>5</td>\n",
       "      <td>6.906</td>\n",
       "      <td>Q.\\tWhat's O. J. Simpson's Internet address? \\...</td>\n",
       "    </tr>\n",
       "  </tbody>\n",
       "</table>\n",
       "</div>"
      ],
      "text/plain": [
       "   userId  jokeId  rating                                           jokeText\n",
       "0       1       5   0.219  Q.\\tWhat's O. J. Simpson's Internet address? \\...\n",
       "1       2       5  -9.688  Q.\\tWhat's O. J. Simpson's Internet address? \\...\n",
       "2       3       5  -9.844  Q.\\tWhat's O. J. Simpson's Internet address? \\...\n",
       "3       4       5  -5.812  Q.\\tWhat's O. J. Simpson's Internet address? \\...\n",
       "4       5       5   6.906  Q.\\tWhat's O. J. Simpson's Internet address? \\..."
      ]
     },
     "execution_count": 106,
     "metadata": {},
     "output_type": "execute_result"
    }
   ],
   "source": [
    "# Data Cleaning\n",
    "\n",
    "df_clean = df_new.dropna(axis=0, subset=['jokeText'])\n",
    "df_clean.head()"
   ]
  },
  {
   "cell_type": "code",
   "execution_count": 107,
   "id": "018edf84",
   "metadata": {},
   "outputs": [
    {
     "data": {
      "text/plain": [
       "userId      0\n",
       "jokeId      0\n",
       "rating      0\n",
       "jokeText    0\n",
       "dtype: int64"
      ]
     },
     "execution_count": 107,
     "metadata": {},
     "output_type": "execute_result"
    }
   ],
   "source": [
    "df_clean.isna().sum()"
   ]
  },
  {
   "cell_type": "code",
   "execution_count": 108,
   "id": "49bb303b",
   "metadata": {},
   "outputs": [
    {
     "data": {
      "text/html": [
       "<div>\n",
       "<style scoped>\n",
       "    .dataframe tbody tr th:only-of-type {\n",
       "        vertical-align: middle;\n",
       "    }\n",
       "\n",
       "    .dataframe tbody tr th {\n",
       "        vertical-align: top;\n",
       "    }\n",
       "\n",
       "    .dataframe thead th {\n",
       "        text-align: right;\n",
       "    }\n",
       "</style>\n",
       "<table border=\"1\" class=\"dataframe\">\n",
       "  <thead>\n",
       "    <tr style=\"text-align: right;\">\n",
       "      <th></th>\n",
       "      <th>jokeText</th>\n",
       "      <th>rating_count</th>\n",
       "    </tr>\n",
       "  </thead>\n",
       "  <tbody>\n",
       "    <tr>\n",
       "      <th>0</th>\n",
       "      <td>President Clinton looks up from his desk in t...</td>\n",
       "      <td>230</td>\n",
       "    </tr>\n",
       "    <tr>\n",
       "      <th>1</th>\n",
       "      <td>\"May I take your order?\" the waiter asked. \\n\\...</td>\n",
       "      <td>8342</td>\n",
       "    </tr>\n",
       "    <tr>\n",
       "      <th>2</th>\n",
       "      <td>(A) The Japanese eat very little fat and suffe...</td>\n",
       "      <td>11268</td>\n",
       "    </tr>\n",
       "    <tr>\n",
       "      <th>3</th>\n",
       "      <td>A Briton, a Frenchman and a Russian are viewin...</td>\n",
       "      <td>16525</td>\n",
       "    </tr>\n",
       "    <tr>\n",
       "      <th>4</th>\n",
       "      <td>A Czechoslovakian man felt his eyesight was gr...</td>\n",
       "      <td>9385</td>\n",
       "    </tr>\n",
       "  </tbody>\n",
       "</table>\n",
       "</div>"
      ],
      "text/plain": [
       "                                            jokeText  rating_count\n",
       "0   President Clinton looks up from his desk in t...           230\n",
       "1  \"May I take your order?\" the waiter asked. \\n\\...          8342\n",
       "2  (A) The Japanese eat very little fat and suffe...         11268\n",
       "3  A Briton, a Frenchman and a Russian are viewin...         16525\n",
       "4  A Czechoslovakian man felt his eyesight was gr...          9385"
      ]
     },
     "execution_count": 108,
     "metadata": {},
     "output_type": "execute_result"
    }
   ],
   "source": [
    "# Total rating count for each joke\n",
    "\n",
    "joke_rating_count = (df_clean.groupby(by=['jokeText'])['rating'].count().reset_index().\n",
    "                rename(columns={'rating':'rating_count'})[['jokeText','rating_count']])\n",
    "joke_rating_count.head()"
   ]
  },
  {
   "cell_type": "code",
   "execution_count": 109,
   "id": "f43e510a",
   "metadata": {},
   "outputs": [],
   "source": [
    "# Merging datasets\n",
    "\n",
    "final_data = joke_rating_count.merge(df_clean, left_on='jokeText', right_on='jokeText', how='left')"
   ]
  },
  {
   "cell_type": "code",
   "execution_count": 110,
   "id": "e68ce0bc",
   "metadata": {},
   "outputs": [
    {
     "data": {
      "text/html": [
       "<div>\n",
       "<style scoped>\n",
       "    .dataframe tbody tr th:only-of-type {\n",
       "        vertical-align: middle;\n",
       "    }\n",
       "\n",
       "    .dataframe tbody tr th {\n",
       "        vertical-align: top;\n",
       "    }\n",
       "\n",
       "    .dataframe thead th {\n",
       "        text-align: right;\n",
       "    }\n",
       "</style>\n",
       "<table border=\"1\" class=\"dataframe\">\n",
       "  <thead>\n",
       "    <tr style=\"text-align: right;\">\n",
       "      <th></th>\n",
       "      <th>jokeText</th>\n",
       "      <th>rating_count</th>\n",
       "      <th>userId</th>\n",
       "      <th>jokeId</th>\n",
       "      <th>rating</th>\n",
       "    </tr>\n",
       "  </thead>\n",
       "  <tbody>\n",
       "    <tr>\n",
       "      <th>0</th>\n",
       "      <td>President Clinton looks up from his desk in t...</td>\n",
       "      <td>230</td>\n",
       "      <td>1</td>\n",
       "      <td>31</td>\n",
       "      <td>8.781</td>\n",
       "    </tr>\n",
       "    <tr>\n",
       "      <th>1</th>\n",
       "      <td>President Clinton looks up from his desk in t...</td>\n",
       "      <td>230</td>\n",
       "      <td>2</td>\n",
       "      <td>31</td>\n",
       "      <td>5.500</td>\n",
       "    </tr>\n",
       "    <tr>\n",
       "      <th>2</th>\n",
       "      <td>President Clinton looks up from his desk in t...</td>\n",
       "      <td>230</td>\n",
       "      <td>5</td>\n",
       "      <td>31</td>\n",
       "      <td>3.219</td>\n",
       "    </tr>\n",
       "    <tr>\n",
       "      <th>3</th>\n",
       "      <td>President Clinton looks up from his desk in t...</td>\n",
       "      <td>230</td>\n",
       "      <td>6</td>\n",
       "      <td>31</td>\n",
       "      <td>5.969</td>\n",
       "    </tr>\n",
       "    <tr>\n",
       "      <th>4</th>\n",
       "      <td>President Clinton looks up from his desk in t...</td>\n",
       "      <td>230</td>\n",
       "      <td>7</td>\n",
       "      <td>31</td>\n",
       "      <td>-0.969</td>\n",
       "    </tr>\n",
       "  </tbody>\n",
       "</table>\n",
       "</div>"
      ],
      "text/plain": [
       "                                            jokeText  rating_count  userId  \\\n",
       "0   President Clinton looks up from his desk in t...           230       1   \n",
       "1   President Clinton looks up from his desk in t...           230       2   \n",
       "2   President Clinton looks up from his desk in t...           230       5   \n",
       "3   President Clinton looks up from his desk in t...           230       6   \n",
       "4   President Clinton looks up from his desk in t...           230       7   \n",
       "\n",
       "   jokeId  rating  \n",
       "0      31   8.781  \n",
       "1      31   5.500  \n",
       "2      31   3.219  \n",
       "3      31   5.969  \n",
       "4      31  -0.969  "
      ]
     },
     "execution_count": 110,
     "metadata": {},
     "output_type": "execute_result"
    }
   ],
   "source": [
    "final_data.head()"
   ]
  },
  {
   "cell_type": "code",
   "execution_count": 111,
   "id": "7ee4da38",
   "metadata": {},
   "outputs": [
    {
     "data": {
      "text/plain": [
       "23693.53717443522"
      ]
     },
     "execution_count": 111,
     "metadata": {},
     "output_type": "execute_result"
    }
   ],
   "source": [
    "# Mean\n",
    "\n",
    "final_data['rating_count'].mean()"
   ]
  },
  {
   "cell_type": "code",
   "execution_count": 112,
   "id": "f07c3f44",
   "metadata": {},
   "outputs": [
    {
     "data": {
      "text/plain": [
       "0    59122\n",
       "Name: rating_count, dtype: int64"
      ]
     },
     "execution_count": 112,
     "metadata": {},
     "output_type": "execute_result"
    }
   ],
   "source": [
    "# Mode\n",
    "\n",
    "final_data['rating_count'].mode()"
   ]
  },
  {
   "cell_type": "code",
   "execution_count": 113,
   "id": "4d6b70b0",
   "metadata": {},
   "outputs": [
    {
     "data": {
      "text/plain": [
       "16093.0"
      ]
     },
     "execution_count": 113,
     "metadata": {},
     "output_type": "execute_result"
    }
   ],
   "source": [
    "# Median\n",
    "\n",
    "final_data['rating_count'].median()"
   ]
  },
  {
   "cell_type": "code",
   "execution_count": 114,
   "id": "58c51ab1",
   "metadata": {},
   "outputs": [],
   "source": [
    "# Considering rows with rating_count above the popularity threshold\n",
    "\n",
    "popularity_threshold = 20000   # popular jokes\n",
    "\n",
    "popular_joke = final_data[final_data.rating_count > popularity_threshold]"
   ]
  },
  {
   "cell_type": "code",
   "execution_count": 115,
   "id": "d741f485",
   "metadata": {},
   "outputs": [
    {
     "data": {
      "text/html": [
       "<div>\n",
       "<style scoped>\n",
       "    .dataframe tbody tr th:only-of-type {\n",
       "        vertical-align: middle;\n",
       "    }\n",
       "\n",
       "    .dataframe tbody tr th {\n",
       "        vertical-align: top;\n",
       "    }\n",
       "\n",
       "    .dataframe thead th {\n",
       "        text-align: right;\n",
       "    }\n",
       "</style>\n",
       "<table border=\"1\" class=\"dataframe\">\n",
       "  <thead>\n",
       "    <tr style=\"text-align: right;\">\n",
       "      <th></th>\n",
       "      <th>jokeText</th>\n",
       "      <th>rating_count</th>\n",
       "      <th>userId</th>\n",
       "      <th>jokeId</th>\n",
       "      <th>rating</th>\n",
       "    </tr>\n",
       "  </thead>\n",
       "  <tbody>\n",
       "    <tr>\n",
       "      <th>99936</th>\n",
       "      <td>A couple of hunters are out in the woods in th...</td>\n",
       "      <td>21822</td>\n",
       "      <td>1</td>\n",
       "      <td>105</td>\n",
       "      <td>2.000</td>\n",
       "    </tr>\n",
       "    <tr>\n",
       "      <th>99937</th>\n",
       "      <td>A couple of hunters are out in the woods in th...</td>\n",
       "      <td>21822</td>\n",
       "      <td>3</td>\n",
       "      <td>105</td>\n",
       "      <td>1.250</td>\n",
       "    </tr>\n",
       "    <tr>\n",
       "      <th>99938</th>\n",
       "      <td>A couple of hunters are out in the woods in th...</td>\n",
       "      <td>21822</td>\n",
       "      <td>8</td>\n",
       "      <td>105</td>\n",
       "      <td>0.875</td>\n",
       "    </tr>\n",
       "    <tr>\n",
       "      <th>99939</th>\n",
       "      <td>A couple of hunters are out in the woods in th...</td>\n",
       "      <td>21822</td>\n",
       "      <td>10</td>\n",
       "      <td>105</td>\n",
       "      <td>0.219</td>\n",
       "    </tr>\n",
       "    <tr>\n",
       "      <th>99940</th>\n",
       "      <td>A couple of hunters are out in the woods in th...</td>\n",
       "      <td>21822</td>\n",
       "      <td>13</td>\n",
       "      <td>105</td>\n",
       "      <td>7.031</td>\n",
       "    </tr>\n",
       "  </tbody>\n",
       "</table>\n",
       "</div>"
      ],
      "text/plain": [
       "                                                jokeText  rating_count  \\\n",
       "99936  A couple of hunters are out in the woods in th...         21822   \n",
       "99937  A couple of hunters are out in the woods in th...         21822   \n",
       "99938  A couple of hunters are out in the woods in th...         21822   \n",
       "99939  A couple of hunters are out in the woods in th...         21822   \n",
       "99940  A couple of hunters are out in the woods in th...         21822   \n",
       "\n",
       "       userId  jokeId  rating  \n",
       "99936       1     105   2.000  \n",
       "99937       3     105   1.250  \n",
       "99938       8     105   0.875  \n",
       "99939      10     105   0.219  \n",
       "99940      13     105   7.031  "
      ]
     },
     "execution_count": 115,
     "metadata": {},
     "output_type": "execute_result"
    }
   ],
   "source": [
    "popular_joke.head()"
   ]
  },
  {
   "cell_type": "code",
   "execution_count": 116,
   "id": "e7d8ff85",
   "metadata": {},
   "outputs": [
    {
     "data": {
      "text/html": [
       "<div>\n",
       "<style scoped>\n",
       "    .dataframe tbody tr th:only-of-type {\n",
       "        vertical-align: middle;\n",
       "    }\n",
       "\n",
       "    .dataframe tbody tr th {\n",
       "        vertical-align: top;\n",
       "    }\n",
       "\n",
       "    .dataframe thead th {\n",
       "        text-align: right;\n",
       "    }\n",
       "</style>\n",
       "<table border=\"1\" class=\"dataframe\">\n",
       "  <thead>\n",
       "    <tr style=\"text-align: right;\">\n",
       "      <th>userId</th>\n",
       "      <th>1</th>\n",
       "      <th>2</th>\n",
       "      <th>3</th>\n",
       "      <th>4</th>\n",
       "      <th>5</th>\n",
       "      <th>6</th>\n",
       "      <th>7</th>\n",
       "      <th>8</th>\n",
       "      <th>9</th>\n",
       "      <th>10</th>\n",
       "      <th>...</th>\n",
       "      <th>63969</th>\n",
       "      <th>63970</th>\n",
       "      <th>63971</th>\n",
       "      <th>63972</th>\n",
       "      <th>63973</th>\n",
       "      <th>63974</th>\n",
       "      <th>63975</th>\n",
       "      <th>63976</th>\n",
       "      <th>63977</th>\n",
       "      <th>63978</th>\n",
       "    </tr>\n",
       "    <tr>\n",
       "      <th>jokeText</th>\n",
       "      <th></th>\n",
       "      <th></th>\n",
       "      <th></th>\n",
       "      <th></th>\n",
       "      <th></th>\n",
       "      <th></th>\n",
       "      <th></th>\n",
       "      <th></th>\n",
       "      <th></th>\n",
       "      <th></th>\n",
       "      <th></th>\n",
       "      <th></th>\n",
       "      <th></th>\n",
       "      <th></th>\n",
       "      <th></th>\n",
       "      <th></th>\n",
       "      <th></th>\n",
       "      <th></th>\n",
       "      <th></th>\n",
       "      <th></th>\n",
       "      <th></th>\n",
       "    </tr>\n",
       "  </thead>\n",
       "  <tbody>\n",
       "    <tr>\n",
       "      <th>A couple of hunters are out in the woods in the deep south when one of them falls to the ground. He doesn't seem to be breathing, and his eyes are rolled back in his head. The other guy whips out his cell phone and calls 911. He gasps to the operator, \"My friend is dead! What can I do?\" The operator, in a calm and soothing voice, says, \"Alright, take it easy. I can help. First, let's make sure he's dead.\" There is silence, and then a gun shot is heard. The hunter comes back on the line. \"Okay. Now what??\"</th>\n",
       "      <td>2.000</td>\n",
       "      <td>0.000</td>\n",
       "      <td>1.250</td>\n",
       "      <td>0.0</td>\n",
       "      <td>0.000</td>\n",
       "      <td>0.000</td>\n",
       "      <td>0.000</td>\n",
       "      <td>0.875</td>\n",
       "      <td>0.000</td>\n",
       "      <td>0.219</td>\n",
       "      <td>...</td>\n",
       "      <td>0.000</td>\n",
       "      <td>0.000</td>\n",
       "      <td>0.0</td>\n",
       "      <td>0.0</td>\n",
       "      <td>0.000</td>\n",
       "      <td>0.000</td>\n",
       "      <td>0.000</td>\n",
       "      <td>0.0</td>\n",
       "      <td>0.00</td>\n",
       "      <td>6.938</td>\n",
       "    </tr>\n",
       "    <tr>\n",
       "      <th>A dog walks into Western Union and asks the clerk to send a telegram. He fills out a form on which he\\nwrites down the telegram he wishes to send: \"Bow wow wow, Bow wow wow.\"\\n\\nThe clerk says, \"You can add another 'Bow wow' for the same price.\"\\n\\nThe dog responded, \"Now wouldn't that sound a little silly?\" \\n</th>\n",
       "      <td>-7.469</td>\n",
       "      <td>-2.688</td>\n",
       "      <td>-9.812</td>\n",
       "      <td>0.0</td>\n",
       "      <td>5.656</td>\n",
       "      <td>-9.156</td>\n",
       "      <td>0.406</td>\n",
       "      <td>-2.219</td>\n",
       "      <td>8.844</td>\n",
       "      <td>-6.312</td>\n",
       "      <td>...</td>\n",
       "      <td>0.656</td>\n",
       "      <td>-9.062</td>\n",
       "      <td>0.0</td>\n",
       "      <td>0.0</td>\n",
       "      <td>5.219</td>\n",
       "      <td>3.750</td>\n",
       "      <td>-9.188</td>\n",
       "      <td>0.0</td>\n",
       "      <td>-2.75</td>\n",
       "      <td>-6.375</td>\n",
       "    </tr>\n",
       "    <tr>\n",
       "      <th>A little boy goes to his dad and asks, \"What is politics?\" His dad says, \"Well son, let me try to explain it this way: I'm the breadwinner of the family, so let's call me capitalism. Your Mom, she's the administrator of the money, so we'll call her the government. We're here to take care of your needs, so we'll call you the people. The nanny, we'll consider her the working class. And your baby brother, we'll call him the future. Now, think about that and see if that makes sense.\" So the little boy goes off to bed thinking about what dad had said. Later that night, he hears his baby brother crying, so he gets up to check on him. He finds that the baby has severely soiled his diaper. So the little boy goes to his parents' room and finds his mother sound asleep. Not wanting to wake her, he goes to the nanny's room. Finding the door locked, he peeks in the keyhole and sees his father in bed with the nanny. He gives up and goes back to bed. The next morning, the little boy says to his father, \"Dad, I think I understand the concept of politics now.\" The father says, \"Good, son. Tell me in your own words what you think politics is all about.\" The little boy replies, \"Well, while capitalism is screwing the working class, the government is sound asleep, the people are being ignored and the future is in deep shit.\"</th>\n",
       "      <td>8.688</td>\n",
       "      <td>0.000</td>\n",
       "      <td>0.000</td>\n",
       "      <td>0.0</td>\n",
       "      <td>0.000</td>\n",
       "      <td>0.000</td>\n",
       "      <td>0.000</td>\n",
       "      <td>0.000</td>\n",
       "      <td>0.000</td>\n",
       "      <td>0.000</td>\n",
       "      <td>...</td>\n",
       "      <td>0.000</td>\n",
       "      <td>0.000</td>\n",
       "      <td>0.0</td>\n",
       "      <td>0.0</td>\n",
       "      <td>0.000</td>\n",
       "      <td>0.000</td>\n",
       "      <td>0.000</td>\n",
       "      <td>0.0</td>\n",
       "      <td>0.00</td>\n",
       "      <td>8.500</td>\n",
       "    </tr>\n",
       "    <tr>\n",
       "      <th>A man arrives at the gates of heaven. St. Peter asks, \"Religion?\" \\nThe man says, \"Methodist.\" St. Peter looks down his list, and says, \\n\"Go to room 24, but be very quiet as you pass room 8.\" \\n\\nAnother man arrives at the gates of heaven. \"Religion?\"\\n\"Baptist.\" \"Go to room 18, but be very quiet as you pass room 8.\" \\n\\nA third man arrives at the gates. \"Religion?\" \"Jewish.\"\\n\"Go to room 11, but be very quiet as you pass room 8.\" \\nThe man says, \"I can understand there being different rooms for different religions, but why\\nmust I be quiet when I pass room 8?\" St. Peter tells him, \"Well the Catholics are in room 8, \\nand they think they're the only ones here.\\n</th>\n",
       "      <td>8.781</td>\n",
       "      <td>-4.250</td>\n",
       "      <td>0.000</td>\n",
       "      <td>0.0</td>\n",
       "      <td>4.906</td>\n",
       "      <td>0.000</td>\n",
       "      <td>1.969</td>\n",
       "      <td>-0.875</td>\n",
       "      <td>0.000</td>\n",
       "      <td>9.531</td>\n",
       "      <td>...</td>\n",
       "      <td>0.000</td>\n",
       "      <td>0.000</td>\n",
       "      <td>0.0</td>\n",
       "      <td>0.0</td>\n",
       "      <td>0.000</td>\n",
       "      <td>0.000</td>\n",
       "      <td>0.000</td>\n",
       "      <td>0.0</td>\n",
       "      <td>0.00</td>\n",
       "      <td>7.531</td>\n",
       "    </tr>\n",
       "    <tr>\n",
       "      <th>A radio conversation of a US naval \\nship with Canadian authorities ... \\n\\nAmericans: Please divert your course 15 degrees to the North to avoid a\\ncollision.\\n\\nCanadians: Recommend you divert YOUR course 15 degrees to the South to \\navoid a collision.\\n\\nAmericans: This is the Captain of a US Navy ship.  I say again, divert \\nYOUR course.\\n\\nCanadians: No.  I say again, you divert YOUR course.\\n\\nAmericans: This is the aircraft carrier USS LINCOLN, the second largest ship in the United States' Atlantic Fleet. We are accompanied by three destroyers, three cruisers and numerous support vessels. I demand that you change your course 15 degrees north, that's ONE FIVE DEGREES NORTH, or counter-measures will be undertaken to ensure the safety of this ship.\\n\\nCanadians: This is a lighthouse.  Your call.\\n</th>\n",
       "      <td>9.812</td>\n",
       "      <td>9.562</td>\n",
       "      <td>0.000</td>\n",
       "      <td>0.0</td>\n",
       "      <td>6.000</td>\n",
       "      <td>-5.094</td>\n",
       "      <td>3.281</td>\n",
       "      <td>3.750</td>\n",
       "      <td>0.000</td>\n",
       "      <td>6.688</td>\n",
       "      <td>...</td>\n",
       "      <td>0.000</td>\n",
       "      <td>0.000</td>\n",
       "      <td>0.0</td>\n",
       "      <td>0.0</td>\n",
       "      <td>0.000</td>\n",
       "      <td>8.188</td>\n",
       "      <td>0.000</td>\n",
       "      <td>0.0</td>\n",
       "      <td>0.00</td>\n",
       "      <td>7.438</td>\n",
       "    </tr>\n",
       "  </tbody>\n",
       "</table>\n",
       "<p>5 rows × 59123 columns</p>\n",
       "</div>"
      ],
      "text/plain": [
       "userId                                              1      2      3      \\\n",
       "jokeText                                                                  \n",
       "A couple of hunters are out in the woods in the...  2.000  0.000  1.250   \n",
       "A dog walks into Western Union and asks the cle... -7.469 -2.688 -9.812   \n",
       "A little boy goes to his dad and asks, \"What is...  8.688  0.000  0.000   \n",
       "A man arrives at the gates of heaven. St. Peter...  8.781 -4.250  0.000   \n",
       "A radio conversation of a US naval \\nship with ...  9.812  9.562  0.000   \n",
       "\n",
       "userId                                              4      5      6      \\\n",
       "jokeText                                                                  \n",
       "A couple of hunters are out in the woods in the...    0.0  0.000  0.000   \n",
       "A dog walks into Western Union and asks the cle...    0.0  5.656 -9.156   \n",
       "A little boy goes to his dad and asks, \"What is...    0.0  0.000  0.000   \n",
       "A man arrives at the gates of heaven. St. Peter...    0.0  4.906  0.000   \n",
       "A radio conversation of a US naval \\nship with ...    0.0  6.000 -5.094   \n",
       "\n",
       "userId                                              7      8      9      \\\n",
       "jokeText                                                                  \n",
       "A couple of hunters are out in the woods in the...  0.000  0.875  0.000   \n",
       "A dog walks into Western Union and asks the cle...  0.406 -2.219  8.844   \n",
       "A little boy goes to his dad and asks, \"What is...  0.000  0.000  0.000   \n",
       "A man arrives at the gates of heaven. St. Peter...  1.969 -0.875  0.000   \n",
       "A radio conversation of a US naval \\nship with ...  3.281  3.750  0.000   \n",
       "\n",
       "userId                                              10     ...  63969  63970  \\\n",
       "jokeText                                                   ...                 \n",
       "A couple of hunters are out in the woods in the...  0.219  ...  0.000  0.000   \n",
       "A dog walks into Western Union and asks the cle... -6.312  ...  0.656 -9.062   \n",
       "A little boy goes to his dad and asks, \"What is...  0.000  ...  0.000  0.000   \n",
       "A man arrives at the gates of heaven. St. Peter...  9.531  ...  0.000  0.000   \n",
       "A radio conversation of a US naval \\nship with ...  6.688  ...  0.000  0.000   \n",
       "\n",
       "userId                                              63971  63972  63973  \\\n",
       "jokeText                                                                  \n",
       "A couple of hunters are out in the woods in the...    0.0    0.0  0.000   \n",
       "A dog walks into Western Union and asks the cle...    0.0    0.0  5.219   \n",
       "A little boy goes to his dad and asks, \"What is...    0.0    0.0  0.000   \n",
       "A man arrives at the gates of heaven. St. Peter...    0.0    0.0  0.000   \n",
       "A radio conversation of a US naval \\nship with ...    0.0    0.0  0.000   \n",
       "\n",
       "userId                                              63974  63975  63976  \\\n",
       "jokeText                                                                  \n",
       "A couple of hunters are out in the woods in the...  0.000  0.000    0.0   \n",
       "A dog walks into Western Union and asks the cle...  3.750 -9.188    0.0   \n",
       "A little boy goes to his dad and asks, \"What is...  0.000  0.000    0.0   \n",
       "A man arrives at the gates of heaven. St. Peter...  0.000  0.000    0.0   \n",
       "A radio conversation of a US naval \\nship with ...  8.188  0.000    0.0   \n",
       "\n",
       "userId                                              63977  63978  \n",
       "jokeText                                                          \n",
       "A couple of hunters are out in the woods in the...   0.00  6.938  \n",
       "A dog walks into Western Union and asks the cle...  -2.75 -6.375  \n",
       "A little boy goes to his dad and asks, \"What is...   0.00  8.500  \n",
       "A man arrives at the gates of heaven. St. Peter...   0.00  7.531  \n",
       "A radio conversation of a US naval \\nship with ...   0.00  7.438  \n",
       "\n",
       "[5 rows x 59123 columns]"
      ]
     },
     "execution_count": 116,
     "metadata": {},
     "output_type": "execute_result"
    }
   ],
   "source": [
    "# Pivot table\n",
    "\n",
    "jokes_rating_pt = popular_joke.pivot_table(index='jokeText', columns='userId', values='rating', fill_value=0)\n",
    "jokes_rating_pt.head()"
   ]
  },
  {
   "cell_type": "code",
   "execution_count": 117,
   "id": "4873c895",
   "metadata": {},
   "outputs": [],
   "source": [
    "from scipy.sparse import csr_matrix"
   ]
  },
  {
   "cell_type": "code",
   "execution_count": 118,
   "id": "43c86bd0",
   "metadata": {},
   "outputs": [],
   "source": [
    "# Cosine Similarity matrix\n",
    "\n",
    "jokes_rating_pt_matrix = csr_matrix(jokes_rating_pt.values)"
   ]
  },
  {
   "cell_type": "code",
   "execution_count": 119,
   "id": "ddd023cf",
   "metadata": {},
   "outputs": [],
   "source": [
    "from sklearn.neighbors import NearestNeighbors"
   ]
  },
  {
   "cell_type": "code",
   "execution_count": 120,
   "id": "a619548e",
   "metadata": {},
   "outputs": [
    {
     "data": {
      "text/plain": [
       "NearestNeighbors(algorithm='brute', metric='cosine')"
      ]
     },
     "execution_count": 120,
     "metadata": {},
     "output_type": "execute_result"
    }
   ],
   "source": [
    "# Fitting K-nearest nearest neighbours\n",
    "\n",
    "knn_model = NearestNeighbors(metric='cosine', algorithm='brute')\n",
    "knn_model.fit(jokes_rating_pt_matrix)"
   ]
  },
  {
   "cell_type": "code",
   "execution_count": 121,
   "id": "f9e78db7",
   "metadata": {},
   "outputs": [
    {
     "name": "stdout",
     "output_type": "stream",
     "text": [
      "11\n"
     ]
    }
   ],
   "source": [
    "# Randomly picking a value\n",
    "\n",
    "query_index = np.random.choice(jokes_rating_pt.shape[0])\n",
    "print(query_index)"
   ]
  },
  {
   "cell_type": "code",
   "execution_count": 122,
   "id": "c5f84a8a",
   "metadata": {},
   "outputs": [],
   "source": [
    "# Obtaining the distances\n",
    "\n",
    "distances, indices = knn_model.kneighbors(jokes_rating_pt.iloc[query_index,:].values.reshape(1, -1), n_neighbors=6)"
   ]
  },
  {
   "cell_type": "code",
   "execution_count": 123,
   "id": "97a9e1be",
   "metadata": {},
   "outputs": [
    {
     "name": "stdout",
     "output_type": "stream",
     "text": [
      "Recommendations for Q. What is orange and sounds like a parrot?  \n",
      "\n",
      "A. A carrot.\n",
      ":\n",
      "\n",
      "1:Q:  What did the blind person say when given some matzah?\n",
      "\n",
      "A:  Who the hell wrote this?\n",
      ", with distance of 0.6338044215243199:\n",
      "2:A dog walks into Western Union and asks the clerk to send a telegram. He fills out a form on which he\n",
      "writes down the telegram he wishes to send: \"Bow wow wow, Bow wow wow.\"\n",
      "\n",
      "The clerk says, \"You can add another 'Bow wow' for the same price.\"\n",
      "\n",
      "The dog responded, \"Now wouldn't that sound a little silly?\" \n",
      ", with distance of 0.6424599683969734:\n",
      "3:Q. Did you hear about the dyslexic devil worshiper? \n",
      "\n",
      "A. He sold his soul to Santa.\n",
      ", with distance of 0.7125070068647992:\n",
      "4:How many feminists does it take to screw in a light bulb?\n",
      "That's not funny.\n",
      ", with distance of 0.7138175990274462:\n",
      "5:They asked the Japanese visitor if they have elections in his\n",
      "country.  \n",
      "\"Every Morning\" he answers.\n",
      ", with distance of 0.7398406975910854:\n"
     ]
    }
   ],
   "source": [
    "# Print Output\n",
    "\n",
    "for i in range(0, len(distances.flatten())):   # flatten distances\n",
    "    if i == 0:\n",
    "        print('Recommendations for {0}:\\n'.format(jokes_rating_pt.index[query_index]))\n",
    "    else: \n",
    "        print('{0}:{1}, with distance of {2}:'. format(i, jokes_rating_pt.index[indices.flatten()[i]], distances.flatten()[i]))\n",
    "        "
   ]
  },
  {
   "cell_type": "markdown",
   "id": "d5c0fa02",
   "metadata": {},
   "source": [
    "### SVD"
   ]
  },
  {
   "cell_type": "code",
   "execution_count": 131,
   "id": "f06a5c0c",
   "metadata": {},
   "outputs": [],
   "source": [
    "#!pip install surprise"
   ]
  },
  {
   "cell_type": "code",
   "execution_count": 142,
   "id": "60cbd9b2",
   "metadata": {},
   "outputs": [],
   "source": [
    "from surprise import SVD, Dataset, Reader\n",
    "from surprise.model_selection import cross_validate, train_test_split"
   ]
  },
  {
   "cell_type": "code",
   "execution_count": 143,
   "id": "09aef71d",
   "metadata": {},
   "outputs": [
    {
     "name": "stdout",
     "output_type": "stream",
     "text": [
      "Minimum rating: -10.0\n",
      "Maximum rating: 10.0\n"
     ]
    }
   ],
   "source": [
    "# Range of ratings \n",
    "\n",
    "print('Minimum rating:', final_data['rating'].min())\n",
    "print('Maximum rating:', final_data['rating'].max())"
   ]
  },
  {
   "cell_type": "code",
   "execution_count": 144,
   "id": "f1250efa",
   "metadata": {},
   "outputs": [],
   "source": [
    "# Reader based on the scale of ratings\n",
    "\n",
    "reader = Reader(rating_scale=(-10, 10))"
   ]
  },
  {
   "cell_type": "code",
   "execution_count": 145,
   "id": "7cfad2fe",
   "metadata": {},
   "outputs": [
    {
     "data": {
      "text/html": [
       "<div>\n",
       "<style scoped>\n",
       "    .dataframe tbody tr th:only-of-type {\n",
       "        vertical-align: middle;\n",
       "    }\n",
       "\n",
       "    .dataframe tbody tr th {\n",
       "        vertical-align: top;\n",
       "    }\n",
       "\n",
       "    .dataframe thead th {\n",
       "        text-align: right;\n",
       "    }\n",
       "</style>\n",
       "<table border=\"1\" class=\"dataframe\">\n",
       "  <thead>\n",
       "    <tr style=\"text-align: right;\">\n",
       "      <th></th>\n",
       "      <th>userId</th>\n",
       "      <th>jokeText</th>\n",
       "      <th>rating</th>\n",
       "    </tr>\n",
       "  </thead>\n",
       "  <tbody>\n",
       "    <tr>\n",
       "      <th>0</th>\n",
       "      <td>1</td>\n",
       "      <td>President Clinton looks up from his desk in t...</td>\n",
       "      <td>8.781</td>\n",
       "    </tr>\n",
       "    <tr>\n",
       "      <th>1</th>\n",
       "      <td>2</td>\n",
       "      <td>President Clinton looks up from his desk in t...</td>\n",
       "      <td>5.500</td>\n",
       "    </tr>\n",
       "    <tr>\n",
       "      <th>2</th>\n",
       "      <td>5</td>\n",
       "      <td>President Clinton looks up from his desk in t...</td>\n",
       "      <td>3.219</td>\n",
       "    </tr>\n",
       "    <tr>\n",
       "      <th>3</th>\n",
       "      <td>6</td>\n",
       "      <td>President Clinton looks up from his desk in t...</td>\n",
       "      <td>5.969</td>\n",
       "    </tr>\n",
       "    <tr>\n",
       "      <th>4</th>\n",
       "      <td>7</td>\n",
       "      <td>President Clinton looks up from his desk in t...</td>\n",
       "      <td>-0.969</td>\n",
       "    </tr>\n",
       "  </tbody>\n",
       "</table>\n",
       "</div>"
      ],
      "text/plain": [
       "   userId                                           jokeText  rating\n",
       "0       1   President Clinton looks up from his desk in t...   8.781\n",
       "1       2   President Clinton looks up from his desk in t...   5.500\n",
       "2       5   President Clinton looks up from his desk in t...   3.219\n",
       "3       6   President Clinton looks up from his desk in t...   5.969\n",
       "4       7   President Clinton looks up from his desk in t...  -0.969"
      ]
     },
     "execution_count": 145,
     "metadata": {},
     "output_type": "execute_result"
    }
   ],
   "source": [
    "# Considering the dataframe in user_id, product and rating order\n",
    "\n",
    "dataset_instance = final_data[['userId', 'jokeText', 'rating']]\n",
    "dataset_instance.head()"
   ]
  },
  {
   "cell_type": "code",
   "execution_count": 146,
   "id": "d86e9774",
   "metadata": {},
   "outputs": [],
   "source": [
    "data = Dataset.load_from_df(dataset_instance, reader)"
   ]
  },
  {
   "cell_type": "code",
   "execution_count": 147,
   "id": "94e39be1",
   "metadata": {},
   "outputs": [],
   "source": [
    "# Train Test Split\n",
    "\n",
    "trainset, testset = train_test_split(data, test_size=0.25)"
   ]
  },
  {
   "cell_type": "code",
   "execution_count": 148,
   "id": "a25f9b4a",
   "metadata": {},
   "outputs": [],
   "source": [
    "# Fitting the Model\n",
    "\n",
    "svd_model = SVD(n_factors=100)\n",
    "svd_model.fit(trainset)"
   ]
  },
  {
   "cell_type": "code",
   "execution_count": 149,
   "id": "9bac9c4f",
   "metadata": {},
   "outputs": [
    {
     "data": {
      "text/plain": [
       "(140, 100)"
      ]
     },
     "execution_count": 149,
     "metadata": {},
     "output_type": "execute_result"
    }
   ],
   "source": [
    "# shape of matrix\n",
    "\n",
    "svd_model.qi.shape"
   ]
  },
  {
   "cell_type": "code",
   "execution_count": 150,
   "id": "07d18b9c",
   "metadata": {},
   "outputs": [
    {
     "data": {
      "text/plain": [
       "Prediction(uid=151, iid=151, r_ui=None, est=2.2305683751210936, details={'was_impossible': False})"
      ]
     },
     "execution_count": 150,
     "metadata": {},
     "output_type": "execute_result"
    }
   ],
   "source": [
    "# Predicting using the model\n",
    "\n",
    "user_id = dataset_instance['userId'].loc[dataset_instance.index[50]]\n",
    "joke = dataset_instance['userId'].loc[dataset_instance.index[50]]\n",
    "\n",
    "result_matrix.predict(user_id, joke)"
   ]
  }
 ],
 "metadata": {
  "kernelspec": {
   "display_name": "Python 3 (ipykernel)",
   "language": "python",
   "name": "python3"
  },
  "language_info": {
   "codemirror_mode": {
    "name": "ipython",
    "version": 3
   },
   "file_extension": ".py",
   "mimetype": "text/x-python",
   "name": "python",
   "nbconvert_exporter": "python",
   "pygments_lexer": "ipython3",
   "version": "3.9.12"
  }
 },
 "nbformat": 4,
 "nbformat_minor": 5
}
